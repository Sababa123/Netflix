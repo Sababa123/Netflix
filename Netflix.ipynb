{
  "nbformat": 4,
  "nbformat_minor": 0,
  "metadata": {
    "colab": {
      "provenance": []
    },
    "kernelspec": {
      "name": "python3",
      "display_name": "Python 3"
    },
    "language_info": {
      "name": "python"
    }
  },
  "cells": [
    {
      "cell_type": "code",
      "execution_count": 1,
      "metadata": {
        "colab": {
          "base_uri": "https://localhost:8080/"
        },
        "id": "P8X-uDOjrpC_",
        "outputId": "da8c67a6-02c2-46da-e2f9-6906d9c65e6b"
      },
      "outputs": [
        {
          "output_type": "stream",
          "name": "stdout",
          "text": [
            "Mounted at /content/drive\n"
          ]
        }
      ],
      "source": [
        "import pandas as pd\n",
        "from google.colab import drive\n",
        "\n",
        "drive.mount('/content/drive')"
      ]
    },
    {
      "cell_type": "code",
      "source": [
        "# Load dataset\n",
        "df = pd.read_csv('/content/drive/MyDrive/Projects-Datacamp/Netflix/netflix.csv')"
      ],
      "metadata": {
        "id": "dc46hmqAv7yh"
      },
      "execution_count": 2,
      "outputs": []
    },
    {
      "cell_type": "code",
      "source": [
        "# Filter for movies released between 1990 and 1999\n",
        "movies_90s = df[(df['type'] == 'Movie') & (df['release_year'].between(1990, 1999))].copy()\n",
        "\n",
        "# Extract numeric duration in minutes\n",
        "movies_90s['duration_mins'] = movies_90s['duration'].astype(str).str.extract(r'(\\d+)').astype(int)\n",
        "\n",
        "# Calculate most frequent duration\n",
        "duration = movies_90s['duration_mins'].mode().iloc[0]\n",
        "\n",
        "# Count short (<90 min) action movies\n",
        "action_short_90s = movies_90s[\n",
        "    (movies_90s['duration_mins'] < 90) &\n",
        "    (movies_90s['genre'].str.contains('Action', case=False, na=False))\n",
        "]\n",
        "short_movie_count = len(action_short_90s)\n",
        "\n",
        "print(\"Most frequent movie duration in the 1990s (in minutes):\", duration)\n",
        "print(\"Number of short action movies (<90 minutes) in the 1990s:\", short_movie_count)"
      ],
      "metadata": {
        "id": "CVV6yECYv87I"
      },
      "execution_count": null,
      "outputs": []
    }
  ]
}